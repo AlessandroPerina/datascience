{
 "metadata": {
  "name": "",
  "signature": "sha256:4d96f51bba4a2a13eef3eba84779e4a0c28c5d070c8cac3d796b4f36ffd73cf9"
 },
 "nbformat": 3,
 "nbformat_minor": 0,
 "worksheets": [
  {
   "cells": [
    {
     "cell_type": "code",
     "collapsed": false,
     "input": [
      "from os import chdir\n",
      "import pandas as pd\n",
      "import pandasql\n",
      "filename = 'aadhaar_data.csv'\n",
      "chdir('C:\\Users\\APerina\\Desktop\\Git\\datascience')"
     ],
     "language": "python",
     "metadata": {},
     "outputs": [],
     "prompt_number": 6
    },
    {
     "cell_type": "code",
     "collapsed": false,
     "input": [
      "df = pd.read_csv( filename )"
     ],
     "language": "python",
     "metadata": {},
     "outputs": [],
     "prompt_number": 7
    },
    {
     "cell_type": "code",
     "collapsed": false,
     "input": [
      "df.columns"
     ],
     "language": "python",
     "metadata": {},
     "outputs": [
      {
       "metadata": {},
       "output_type": "pyout",
       "prompt_number": 8,
       "text": [
        "Index([u'Registrar', u'Enrolment Agency', u'State', u'District', u'Sub District', u'Pin Code', u'Gender', u'Age', u'Aadhaar generated', u'Enrolment Rejected', u'Residents providing email', u'Residents providing mobile number'], dtype='object')"
       ]
      }
     ],
     "prompt_number": 8
    },
    {
     "cell_type": "markdown",
     "metadata": {},
     "source": [
      "# SQL non funziona se le colonne hanno lo spazio, quindi devo sostituire lo spazio con l'underscore"
     ]
    },
    {
     "cell_type": "code",
     "collapsed": false,
     "input": [
      "df.columns = (df.columns).map( lambda x: ( x.replace( ' ', '_')).lower())"
     ],
     "language": "python",
     "metadata": {},
     "outputs": [],
     "prompt_number": 16
    },
    {
     "cell_type": "markdown",
     "metadata": {},
     "source": [
      "# Select out the first 50 values for \"registrar\" and \"enrolment_agency\"\n",
      "# in the aadhaar_data table using SQL syntax. "
     ]
    },
    {
     "cell_type": "code",
     "collapsed": false,
     "input": [
      "query = \"SELECT registrar, enrolment_agency FROM df LIMIT 50\""
     ],
     "language": "python",
     "metadata": {},
     "outputs": [],
     "prompt_number": 31
    },
    {
     "cell_type": "code",
     "collapsed": false,
     "input": [
      "aadhaar_solution = pandasql.sqldf(query, locals())"
     ],
     "language": "python",
     "metadata": {},
     "outputs": [],
     "prompt_number": 36
    },
    {
     "cell_type": "code",
     "collapsed": false,
     "input": [
      "query = \"\"\"\n",
      "SELECT \n",
      "*\n",
      "FROM df \n",
      "WHERE State = 'Gujarat'\n",
      "\"\"\""
     ],
     "language": "python",
     "metadata": {},
     "outputs": [],
     "prompt_number": 38
    },
    {
     "cell_type": "code",
     "collapsed": false,
     "input": [
      "aadhaar_solution = pandasql.sqldf(query, locals())"
     ],
     "language": "python",
     "metadata": {},
     "outputs": [],
     "prompt_number": 39
    },
    {
     "cell_type": "markdown",
     "metadata": {},
     "source": [
      "# Write a query that will select from the aadhaar_data table how many men and how \n",
      "# many women over the age of 50 have had aadhaar generated for them in each district\n",
      "#\n",
      "# Note that in this quiz, the SQL query keywords are case sensitive. \n",
      "# For example, if you want to do a sum make sure you type 'sum' rather than 'SUM'.\n",
      "#"
     ]
    },
    {
     "cell_type": "code",
     "collapsed": false,
     "input": [
      "df.columns"
     ],
     "language": "python",
     "metadata": {},
     "outputs": [
      {
       "metadata": {},
       "output_type": "pyout",
       "prompt_number": 41,
       "text": [
        "Index([u'registrar', u'enrolment_agency', u'state', u'district', u'sub_district', u'pin_code', u'gender', u'age', u'aadhaar_generated', u'enrolment_rejected', u'residents_providing_email', u'residents_providing_mobile_number'], dtype='object')"
       ]
      }
     ],
     "prompt_number": 41
    },
    {
     "cell_type": "code",
     "collapsed": false,
     "input": [
      "query = \"\"\"\n",
      "select\n",
      "gender, district, sum(aadhaar_generated)\n",
      "from df\n",
      "where age > 50\n",
      "group by gender, district\n",
      "\"\"\""
     ],
     "language": "python",
     "metadata": {},
     "outputs": [],
     "prompt_number": 76
    },
    {
     "cell_type": "code",
     "collapsed": false,
     "input": [
      "aadhaar_solution = pandasql.sqldf(query.lower(), locals())"
     ],
     "language": "python",
     "metadata": {},
     "outputs": [],
     "prompt_number": 77
    },
    {
     "cell_type": "code",
     "collapsed": false,
     "input": [
      "print aadhaar_solution"
     ],
     "language": "python",
     "metadata": {},
     "outputs": [
      {
       "output_type": "stream",
       "stream": "stdout",
       "text": [
        "    gender           district  sum(aadhaar_generated)\n",
        "0        F         Ahmadnagar                      45\n",
        "1        F        Ahmed Nagar                       0\n",
        "2        F          Ahmedabad                       1\n",
        "3        F              Ajmer                      27\n",
        "4        F              Akola                       5\n",
        "5        F          Alirajpur                      71\n",
        "6        F          Allahabad                      15\n",
        "7        F              Alwar                      14\n",
        "8        F             Ambala                       7\n",
        "9        F           Amravati                       0\n",
        "10       F           Amritsar                      30\n",
        "11       F            Anuppur                     101\n",
        "12       F        Ashok Nagar                       1\n",
        "13       F         Aurangabad                      19\n",
        "14       F           Balaghat                     287\n",
        "15       F          Bangalore                     433\n",
        "16       F    Bangalore Rural                       9\n",
        "17       F              Banka                       0\n",
        "18       F           Banswara                      28\n",
        "19       F              Baran                       5\n",
        "20       F            Barwani                      34\n",
        "21       F           Bathinda                      43\n",
        "22       F               Beed                      25\n",
        "23       F            Belgaum                      59\n",
        "24       F            Bellary                      65\n",
        "25       F              Betul                      41\n",
        "26       F          Bhagalpur                       0\n",
        "27       F           Bhandara                       4\n",
        "28       F          Bharatpur                      94\n",
        "29       F           Bhilwara                      50\n",
        "..     ...                ...                     ...\n",
        "498      M              Sirsa                     158\n",
        "499      M            Solapur                      80\n",
        "500      M          Sonbhadra                       7\n",
        "501      M            Sonipat                      14\n",
        "502      M        South Delhi                       5\n",
        "503      M      South Tripura                       0\n",
        "504      M   South West Delhi                       4\n",
        "505      M  Sri Muktsar Sahib                      21\n",
        "506      M         Tarn Taran                     125\n",
        "507      M              Thane                     144\n",
        "508      M          Tikamgarh                     265\n",
        "509      M     Tiruvannamalai                       1\n",
        "510      M               Tonk                      49\n",
        "511      M             Tumkur                       1\n",
        "512      M            Udaipur                      16\n",
        "513      M             Ujjain                      66\n",
        "514      M             Umaria                     137\n",
        "515      M                Una                       3\n",
        "516      M             Valsad                       2\n",
        "517      M            Vellore                       0\n",
        "518      M            Vidisha                      84\n",
        "519      M         Viluppuram                      18\n",
        "520      M             Wardha                       1\n",
        "521      M             Washim                      33\n",
        "522      M         West Delhi                       3\n",
        "523      M     West Singhbhum                     227\n",
        "524      M       West Tripura                      24\n",
        "525      M             Yadgir                      12\n",
        "526      M       Yamuna Nagar                     149\n",
        "527      M           Yavatmal                      54\n",
        "\n",
        "[528 rows x 3 columns]\n"
       ]
      }
     ],
     "prompt_number": 78
    },
    {
     "cell_type": "code",
     "collapsed": false,
     "input": [],
     "language": "python",
     "metadata": {},
     "outputs": []
    }
   ],
   "metadata": {}
  }
 ]
}