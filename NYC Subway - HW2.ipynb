{
 "metadata": {
  "name": "",
  "signature": "sha256:139554e20488acbb3b4c980b31b19d45dc65b8c47007dffb9d5f8f5c57f86710"
 },
 "nbformat": 3,
 "nbformat_minor": 0,
 "worksheets": [
  {
   "cells": [
    {
     "cell_type": "code",
     "collapsed": false,
     "input": [
      "import pandas \n",
      "import pandasql\n",
      "import numpy"
     ],
     "language": "python",
     "metadata": {},
     "outputs": [],
     "prompt_number": 1
    },
    {
     "cell_type": "markdown",
     "metadata": {},
     "source": [
      "    '''\n",
      "    This function should run a SQL query on a dataframe of\n",
      "    weather data.  The SQL query should return one column and\n",
      "    one row - a count of the number of days in the dataframe where\n",
      "    the rain column is equal to 1 (i.e., the number of days it\n",
      "    rained).  The dataframe will be titled 'weather_data'. You'll\n",
      "    need to provide the SQL query.  You might find SQL's count function\n",
      "    useful for this exercise.  You can read more about it here:\n",
      "    \n",
      "    https://dev.mysql.com/doc/refman/5.1/en/counting-rows.html\n",
      "    \n",
      "    You might also find that interpreting numbers as integers or floats may not\n",
      "    work initially.  In order to get around this issue, it may be useful to cast\n",
      "    these numbers as integers.  This can be done by writing cast(column as integer).\n",
      "    So for example, if we wanted to cast the maxtempi column as an integer, we would actually\n",
      "    write something like where cast(maxtempi as integer) = 76, as opposed to simply \n",
      "    where maxtempi = 76.\n",
      "    \n",
      "    You can see the weather data that we are passing in below:\n",
      "    https://www.dropbox.com/s/7sf0yqc9ykpq3w8/weather_underground.csv\n",
      "    '''"
     ]
    },
    {
     "cell_type": "code",
     "collapsed": false,
     "input": [],
     "language": "python",
     "metadata": {},
     "outputs": []
    }
   ],
   "metadata": {}
  }
 ]
}