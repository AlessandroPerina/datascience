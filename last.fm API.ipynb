{
 "metadata": {
  "name": "",
  "signature": "sha256:bc39877e4bfb330ff95016326b602f4a9e1b037b59886831a4b55e82a2f2d0d2"
 },
 "nbformat": 3,
 "nbformat_minor": 0,
 "worksheets": [
  {
   "cells": [
    {
     "cell_type": "code",
     "collapsed": false,
     "input": [
      "import requests\n",
      "import json"
     ],
     "language": "python",
     "metadata": {},
     "outputs": [],
     "prompt_number": 1
    },
    {
     "cell_type": "markdown",
     "metadata": {},
     "source": [
      "data_science_tests\n",
      "\n",
      "API Key: 8fd329cac359e524febfa61eee4e4bc5\n",
      "Secret: is ff951489c62f916d7b7a103777db2614"
     ]
    },
    {
     "cell_type": "code",
     "collapsed": false,
     "input": [
      "url = 'http://ws.audioscrobbler.com/2.0/?method=geo.gettopartists&country=spain&api_key=8fd329cac359e524febfa61eee4e4bc5&format=json'"
     ],
     "language": "python",
     "metadata": {},
     "outputs": [],
     "prompt_number": 2
    },
    {
     "cell_type": "markdown",
     "metadata": {},
     "source": [
      "Vedi sopra \"geo.gettopartists\" <-- Metodo che sto chiamando. "
     ]
    },
    {
     "cell_type": "code",
     "collapsed": false,
     "input": [
      "data = requests.get(url).text"
     ],
     "language": "python",
     "metadata": {},
     "outputs": [],
     "prompt_number": 3
    },
    {
     "cell_type": "code",
     "collapsed": false,
     "input": [
      "data = json.loads( data )"
     ],
     "language": "python",
     "metadata": {},
     "outputs": [],
     "prompt_number": 4
    },
    {
     "cell_type": "code",
     "collapsed": false,
     "input": [
      "str( data[\"topartists\"][\"artist\"][0][\"name\"] )"
     ],
     "language": "python",
     "metadata": {},
     "outputs": [
      {
       "metadata": {},
       "output_type": "pyout",
       "prompt_number": 25,
       "text": [
        "'Muse'"
       ]
      }
     ],
     "prompt_number": 25
    }
   ],
   "metadata": {}
  }
 ]
}