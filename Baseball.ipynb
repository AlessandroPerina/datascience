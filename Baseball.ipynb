{
 "metadata": {
  "name": "",
  "signature": "sha256:714722a2f47b77bead8478e898e3b0082240cc8abdb25b993daf5a5fdde5d118"
 },
 "nbformat": 3,
 "nbformat_minor": 0,
 "worksheets": [
  {
   "cells": [
    {
     "cell_type": "markdown",
     "metadata": {},
     "source": [
      "    # Pandas dataframes have a method called 'fillna(value)', such that you can\n",
      "    # pass in a single value to replace any NAs in a dataframe or series. You\n",
      "    # can call it like this: \n",
      "    #     dataframe['column'] = dataframe['column'].fillna(value)\n",
      "    #\n",
      "    # Using the numpy.mean function, which calculates the mean of a numpy\n",
      "    # array, impute any missing values in our Lahman baseball\n",
      "    # data sets 'weight' column by setting them equal to the average weight.\n",
      "    # \n",
      "    # You can access the 'weight' colum in the baseball data frame by\n",
      "    # calling baseball['weight']"
     ]
    },
    {
     "cell_type": "code",
     "collapsed": false,
     "input": [
      "from pandas import *\n",
      "import numpy"
     ],
     "language": "python",
     "metadata": {},
     "outputs": [],
     "prompt_number": 1
    },
    {
     "cell_type": "code",
     "collapsed": false,
     "input": [
      "filename = 'baseball data\\Master.csv'"
     ],
     "language": "python",
     "metadata": {},
     "outputs": [],
     "prompt_number": 4
    },
    {
     "cell_type": "code",
     "collapsed": false,
     "input": [
      "df = read_csv(filename)"
     ],
     "language": "python",
     "metadata": {},
     "outputs": [],
     "prompt_number": 7
    },
    {
     "cell_type": "code",
     "collapsed": false,
     "input": [
      "df['weight'] = df['weight'].fillna( numpy.mean( df['weight'] ) )"
     ],
     "language": "python",
     "metadata": {},
     "outputs": [],
     "prompt_number": 20
    },
    {
     "cell_type": "code",
     "collapsed": false,
     "input": [
      "df['weight'].mean()"
     ],
     "language": "python",
     "metadata": {},
     "outputs": [
      {
       "metadata": {},
       "output_type": "pyout",
       "prompt_number": 14,
       "text": [
        "185.56267991194898"
       ]
      }
     ],
     "prompt_number": 14
    },
    {
     "cell_type": "code",
     "collapsed": false,
     "input": [
      "numpy.mean( df['weight'].dropna() )"
     ],
     "language": "python",
     "metadata": {},
     "outputs": [
      {
       "metadata": {},
       "output_type": "pyout",
       "prompt_number": 18,
       "text": [
        "185.56267991194898"
       ]
      }
     ],
     "prompt_number": 18
    },
    {
     "cell_type": "code",
     "collapsed": false,
     "input": [],
     "language": "python",
     "metadata": {},
     "outputs": []
    }
   ],
   "metadata": {}
  }
 ]
}